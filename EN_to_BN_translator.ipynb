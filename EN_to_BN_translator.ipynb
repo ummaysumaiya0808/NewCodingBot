{
  "nbformat": 4,
  "nbformat_minor": 0,
  "metadata": {
    "colab": {
      "provenance": [],
      "gpuType": "T4",
      "authorship_tag": "ABX9TyMQyufg518Qvc8VxAeP2IRv",
      "include_colab_link": true
    },
    "kernelspec": {
      "name": "python3",
      "display_name": "Python 3"
    },
    "language_info": {
      "name": "python"
    }
  },
  "cells": [
    {
      "cell_type": "markdown",
      "metadata": {
        "id": "view-in-github",
        "colab_type": "text"
      },
      "source": [
        "<a href=\"https://colab.research.google.com/github/ummaysumaiya0808/NewCodingBot/blob/main/EN_to_BN_translator.ipynb\" target=\"_parent\"><img src=\"https://colab.research.google.com/assets/colab-badge.svg\" alt=\"Open In Colab\"/></a>"
      ]
    },
    {
      "cell_type": "markdown",
      "source": [
        "English to any language translator//."
      ],
      "metadata": {
        "id": "vPvUlOZG8edK"
      }
    },
    {
      "cell_type": "code",
      "source": [
        "!pip install translate"
      ],
      "metadata": {
        "id": "HPhKjAQo1TBr",
        "colab": {
          "base_uri": "https://localhost:8080/"
        },
        "outputId": "05538316-1225-4930-a205-ae6bb6fd1ae9"
      },
      "execution_count": 3,
      "outputs": [
        {
          "output_type": "stream",
          "name": "stdout",
          "text": [
            "Collecting translate\n",
            "  Downloading translate-3.6.1-py2.py3-none-any.whl (12 kB)\n",
            "Requirement already satisfied: click in /usr/local/lib/python3.10/dist-packages (from translate) (8.1.7)\n",
            "Requirement already satisfied: lxml in /usr/local/lib/python3.10/dist-packages (from translate) (4.9.3)\n",
            "Requirement already satisfied: requests in /usr/local/lib/python3.10/dist-packages (from translate) (2.31.0)\n",
            "Collecting libretranslatepy==2.1.1 (from translate)\n",
            "  Downloading libretranslatepy-2.1.1-py3-none-any.whl (3.2 kB)\n",
            "Requirement already satisfied: charset-normalizer<4,>=2 in /usr/local/lib/python3.10/dist-packages (from requests->translate) (3.3.0)\n",
            "Requirement already satisfied: idna<4,>=2.5 in /usr/local/lib/python3.10/dist-packages (from requests->translate) (3.4)\n",
            "Requirement already satisfied: urllib3<3,>=1.21.1 in /usr/local/lib/python3.10/dist-packages (from requests->translate) (2.0.6)\n",
            "Requirement already satisfied: certifi>=2017.4.17 in /usr/local/lib/python3.10/dist-packages (from requests->translate) (2023.7.22)\n",
            "Installing collected packages: libretranslatepy, translate\n",
            "Successfully installed libretranslatepy-2.1.1 translate-3.6.1\n"
          ]
        }
      ]
    },
    {
      "cell_type": "code",
      "source": [
        "from translate import Translator\n",
        "\n",
        "def translate_text(text, target_language='en'): #Input language.\n",
        "    try:\n",
        "        translator = Translator(to_lang=target_language)\n",
        "        translation = translator.translate(text)\n",
        "        return translation\n",
        "    except Exception as e:\n",
        "        return str(e)\n",
        "\n",
        "if __name__ == \"__main__\":\n",
        "    text_to_translate = input(\"Enter the text you want to translate: \")\n",
        "    target_language = input(\"Enter the target language please (e.g., bn for Bengali): \")\n",
        "\n",
        "    translated_text = translate_text(text_to_translate, target_language)\n",
        "\n",
        "    if translated_text:\n",
        "        print(f\"Translation: {translated_text}\")\n",
        "    else:\n",
        "        print(\"Translation failed.\")\n"
      ],
      "metadata": {
        "id": "8-YYb6RS1TF6",
        "colab": {
          "base_uri": "https://localhost:8080/"
        },
        "outputId": "09d0124e-a73e-4934-b533-790d8b7a9874"
      },
      "execution_count": 17,
      "outputs": [
        {
          "output_type": "stream",
          "name": "stdout",
          "text": [
            "Enter the text you want to translate: Bengali is the official language of Bangladesh and the Indian state of West Bengal.\n",
            "Enter the target language please (e.g., bn for Bengali): bn\n",
            "Translation: বাংলা বাংলাদেশ এবং ভারতের পশ্চিমবঙ্গ রাজ্যের সরকারী ভাষা ।\n"
          ]
        }
      ]
    },
    {
      "cell_type": "code",
      "source": [],
      "metadata": {
        "id": "GDdJcISG1TJ3"
      },
      "execution_count": null,
      "outputs": []
    },
    {
      "cell_type": "code",
      "source": [],
      "metadata": {
        "id": "xdlkoVZN1TOD"
      },
      "execution_count": null,
      "outputs": []
    },
    {
      "cell_type": "code",
      "source": [],
      "metadata": {
        "id": "i4QOcXE_1TR5"
      },
      "execution_count": null,
      "outputs": []
    },
    {
      "cell_type": "code",
      "source": [],
      "metadata": {
        "id": "HZTd0yms1TV3"
      },
      "execution_count": null,
      "outputs": []
    },
    {
      "cell_type": "code",
      "source": [],
      "metadata": {
        "id": "x9IjiBUz1TZp"
      },
      "execution_count": null,
      "outputs": []
    },
    {
      "cell_type": "code",
      "source": [],
      "metadata": {
        "id": "8mSr_t3u1Td0"
      },
      "execution_count": null,
      "outputs": []
    },
    {
      "cell_type": "code",
      "source": [],
      "metadata": {
        "id": "z8bKcNPG1TiX"
      },
      "execution_count": null,
      "outputs": []
    },
    {
      "cell_type": "code",
      "source": [],
      "metadata": {
        "id": "Hboc0per1Tmw"
      },
      "execution_count": null,
      "outputs": []
    },
    {
      "cell_type": "code",
      "source": [],
      "metadata": {
        "id": "-I7wMOjG1TtT"
      },
      "execution_count": null,
      "outputs": []
    },
    {
      "cell_type": "code",
      "source": [],
      "metadata": {
        "id": "P2iERVej1Ty-"
      },
      "execution_count": null,
      "outputs": []
    }
  ]
}